{
 "cells": [
  {
   "cell_type": "code",
   "execution_count": 16,
   "id": "574e18da",
   "metadata": {},
   "outputs": [],
   "source": [
    "import numpy as np\n",
    "import matplotlib.pyplot as plt"
   ]
  },
  {
   "cell_type": "code",
   "execution_count": 17,
   "id": "331e4f20",
   "metadata": {},
   "outputs": [
    {
     "name": "stdout",
     "output_type": "stream",
     "text": [
      "[[ 1.00000000e+00  1.23358114e-17  1.23358114e-17]\n",
      " [ 1.23358114e-17  1.00000000e+00 -2.46716228e-17]\n",
      " [ 1.23358114e-17 -2.46716228e-17  1.00000000e+00]]\n"
     ]
    }
   ],
   "source": [
    "A = np.array([[2,2,-1],[2,-1,2],[-1,2,2]])\n",
    "print(np.dot(A.T / 3, A/3))"
   ]
  },
  {
   "cell_type": "code",
   "execution_count": 18,
   "id": "541d58cf",
   "metadata": {},
   "outputs": [],
   "source": [
    "scan = np.loadtxt('laserscan.dat')\n",
    "angle = np.linspace(-np.pi/2, np.pi/2,\n",
    "np.shape(scan)[0], endpoint='true')"
   ]
  },
  {
   "cell_type": "code",
   "execution_count": 45,
   "id": "e44e43e4",
   "metadata": {},
   "outputs": [],
   "source": [
    "def diffDrive(x, y, theta, v_l, v_r, t, l):\n",
    "    if(v_l == v_r):\n",
    "        v = (v_l + v_r) / 2\n",
    "        x_ret = x + v * t * np.cos(theta)\n",
    "        y_ret = y + v * t * np.sin(theta)\n",
    "        theta_ret = theta\n",
    "    else:\n",
    "        w = (v_r - v_l) / l\n",
    "        dtheta = w * t\n",
    "        theta_ret = theta + dtheta\n",
    "        R = l / 2 * ((v_r + v_l) / (v_r - v_l) )\n",
    "        x_center = x - R * np.sin(theta)\n",
    "        y_center = y + R * np.cos(theta)\n",
    "        x_ret = x_center + (x - x_center) * np.cos(dtheta) - (y - y_center) * np.sin(dtheta)\n",
    "        y_ret = y_center + (x - x_center) * np.sin(dtheta) + (y - y_center) * np.cos(dtheta)\n",
    "    return x_ret, y_ret, theta_ret"
   ]
  },
  {
   "cell_type": "code",
   "execution_count": 46,
   "id": "06e1c81c",
   "metadata": {},
   "outputs": [
    {
     "name": "stdout",
     "output_type": "stream",
     "text": [
      "1.5 2.9 1.5707963267948966\n",
      "1.5 2.9 1.1707963267948966\n",
      "1.6396758098815527 3.035655185914644 0.3707963267948966\n"
     ]
    },
    {
     "data": {
      "text/plain": [
       "(1.5, 3.5)"
      ]
     },
     "execution_count": 46,
     "metadata": {},
     "output_type": "execute_result"
    },
    {
     "data": {
      "image/png": "[encoded data removed]",
      "text/plain": [
       "<Figure size 432x288 with 1 Axes>"
      ]
     },
     "metadata": {
      "needs_background": "light"
     },
     "output_type": "display_data"
    }
   ],
   "source": [
    "x_init, y_init, theta_init, l = 1.5, 2, np.pi / 2, 0.5\n",
    "plt.quiver(x_init, y_init, np.cos(theta_init), np.sin(theta_init))\n",
    "\n",
    "command1_vl, command1_vr, command1_t = 0.3, 0.3, 3\n",
    "ret1_x, ret1_y, ret1_theta = diffDrive(x_init, y_init, theta_init, command1_vl, command1_vr, command1_t, l)\n",
    "plt.quiver(ret1_x, ret1_y, np.cos(ret1_theta), np.sin(ret1_theta))\n",
    "print(ret1_x, ret1_y, ret1_theta)\n",
    "command2_vl, command2_vr, command2_t = 0.1, -0.1, 1\n",
    "ret2_x, ret2_y, ret2_theta = diffDrive(ret1_x, ret1_y, ret1_theta, command2_vl, command2_vr, command2_t, l)\n",
    "plt.quiver(ret2_x, ret2_y, np.cos(ret2_theta), np.sin(ret2_theta))\n",
    "print(ret2_x, ret2_y, ret2_theta)\n",
    "command3_vl, command3_vr, command3_t = 0.2, 0, 2\n",
    "ret3_x, ret3_y, ret3_theta = diffDrive(ret2_x, ret2_y, ret2_theta, command3_vl, command3_vr, command3_t, l)\n",
    "plt.quiver(ret3_x, ret3_y, np.cos(ret3_theta), np.sin(ret3_theta))\n",
    "print(ret3_x, ret3_y, ret3_theta)\n",
    "plt.xlim([0.5, 2.5])\n",
    "plt.ylim([1.5, 3.5])"
   ]
  },
  {
   "cell_type": "code",
   "execution_count": null,
   "id": "c6f06439",
   "metadata": {},
   "outputs": [],
   "source": []
  },
  {
   "cell_type": "code",
   "execution_count": null,
   "id": "57f264b3",
   "metadata": {},
   "outputs": [],
   "source": []
  }
 ],
 "metadata": {
  "kernelspec": {
   "display_name": "Python 3 (ipykernel)",
   "language": "python",
   "name": "python3"
  },
  "language_info": {
   "codemirror_mode": {
    "name": "ipython",
    "version": 3
   },
   "file_extension": ".py",
   "mimetype": "text/x-python",
   "name": "python",
   "nbconvert_exporter": "python",
   "pygments_lexer": "ipython3",
   "version": "3.8.13"
  }
 },
 "nbformat": 4,
 "nbformat_minor": 5
}
