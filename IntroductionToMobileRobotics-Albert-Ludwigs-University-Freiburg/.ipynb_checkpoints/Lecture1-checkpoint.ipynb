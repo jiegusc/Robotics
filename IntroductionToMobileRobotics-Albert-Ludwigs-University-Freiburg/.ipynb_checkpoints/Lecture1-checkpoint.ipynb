{
 "cells": [
  {
   "cell_type": "code",
   "execution_count": 8,
   "id": "5d3f4858",
   "metadata": {},
   "outputs": [],
   "source": [
    "import numpy as np\n",
    "import matplotlib.pyplot as plt"
   ]
  },
  {
   "cell_type": "code",
   "execution_count": 3,
   "id": "7d2d0b0e",
   "metadata": {},
   "outputs": [],
   "source": [
    "def func(x):\n",
    "    return np.cos(x) * np.exp(x)"
   ]
  },
  {
   "cell_type": "code",
   "execution_count": 7,
   "id": "935efe00",
   "metadata": {},
   "outputs": [],
   "source": [
    "x = np.linspace(-2 * np.pi, 2*np.pi,1000, endpoint=True)\n",
    "y = func(x)"
   ]
  },
  {
   "cell_type": "code",
   "execution_count": 11,
   "id": "28f9f802",
   "metadata": {},
   "outputs": [
    {
     "data": {
      "image/png": "[encoded data removed]",
      "text/plain": [
       "<Figure size 432x288 with 1 Axes>"
      ]
     },
     "metadata": {
      "needs_background": "light"
     },
     "output_type": "display_data"
    }
   ],
   "source": [
    "plt.plot(x,y)\n",
    "plt.savefig('myfunc.png')\n"
   ]
  },
  {
   "cell_type": "code",
   "execution_count": 36,
   "id": "92ce1139",
   "metadata": {},
   "outputs": [
    {
     "data": {
      "text/plain": [
       "<Figure size 432x288 with 0 Axes>"
      ]
     },
     "metadata": {},
     "output_type": "display_data"
    }
   ],
   "source": [
    "plt.savefig('lecture1_myfunc.png')\n"
   ]
  },
  {
   "cell_type": "code",
   "execution_count": 15,
   "id": "ef08519b",
   "metadata": {},
   "outputs": [
    {
     "name": "stdout",
     "output_type": "stream",
     "text": [
      "[0.78027397 3.13812793 8.01365441 ... 7.48723788 5.43960148 3.89777792]\n"
     ]
    }
   ],
   "source": [
    "mu, sigma = 5,2\n",
    "normal_vector = np.random.normal(mu, sigma, 100000)\n",
    "uniform_vector = np.random.uniform(0, 10, 100000)\n",
    "print(uniform_vector)"
   ]
  },
  {
   "cell_type": "code",
   "execution_count": 17,
   "id": "b405f41c",
   "metadata": {},
   "outputs": [
    {
     "name": "stdout",
     "output_type": "stream",
     "text": [
      "4.993125284634209 4.999458252696691\n",
      "3.9822019833592477 8.308748755881883\n"
     ]
    }
   ],
   "source": [
    "print(np.mean(normal_vector), np.mean(uniform_vector))\n",
    "print(np.var(normal_vector), np.var(uniform_vector))"
   ]
  },
  {
   "cell_type": "code",
   "execution_count": 19,
   "id": "9305adae",
   "metadata": {},
   "outputs": [
    {
     "data": {
      "text/plain": [
       "(array([1.000e+00, 1.000e+00, 0.000e+00, 4.000e+00, 8.000e+00, 3.000e+00,\n",
       "        4.000e+00, 5.000e+00, 6.000e+00, 5.000e+00, 1.700e+01, 1.800e+01,\n",
       "        2.800e+01, 4.100e+01, 5.700e+01, 6.600e+01, 9.700e+01, 1.280e+02,\n",
       "        1.340e+02, 1.530e+02, 1.830e+02, 2.780e+02, 2.890e+02, 3.700e+02,\n",
       "        4.780e+02, 5.170e+02, 6.730e+02, 8.130e+02, 8.610e+02, 9.870e+02,\n",
       "        1.171e+03, 1.305e+03, 1.622e+03, 1.678e+03, 1.941e+03, 2.045e+03,\n",
       "        2.239e+03, 2.456e+03, 2.599e+03, 2.809e+03, 3.110e+03, 3.201e+03,\n",
       "        3.347e+03, 3.510e+03, 3.470e+03, 3.586e+03, 3.569e+03, 3.593e+03,\n",
       "        3.625e+03, 3.525e+03, 3.441e+03, 3.405e+03, 3.147e+03, 2.961e+03,\n",
       "        2.930e+03, 2.693e+03, 2.516e+03, 2.306e+03, 2.091e+03, 1.889e+03,\n",
       "        1.657e+03, 1.553e+03, 1.326e+03, 1.229e+03, 1.061e+03, 8.830e+02,\n",
       "        7.440e+02, 6.140e+02, 5.400e+02, 4.400e+02, 4.280e+02, 3.050e+02,\n",
       "        2.430e+02, 2.220e+02, 1.510e+02, 1.370e+02, 1.060e+02, 8.900e+01,\n",
       "        7.100e+01, 4.700e+01, 4.400e+01, 3.500e+01, 1.400e+01, 1.600e+01,\n",
       "        1.100e+01, 8.000e+00, 5.000e+00, 8.000e+00, 2.000e+00, 1.000e+00,\n",
       "        2.000e+00, 1.000e+00, 1.000e+00, 0.000e+00, 0.000e+00, 0.000e+00,\n",
       "        0.000e+00, 0.000e+00, 0.000e+00, 1.000e+00]),\n",
       " array([-3.47820655, -3.29802717, -3.11784778, -2.9376684 , -2.75748901,\n",
       "        -2.57730963, -2.39713024, -2.21695086, -2.03677147, -1.85659209,\n",
       "        -1.6764127 , -1.49623332, -1.31605393, -1.13587455, -0.95569517,\n",
       "        -0.77551578, -0.5953364 , -0.41515701, -0.23497763, -0.05479824,\n",
       "         0.12538114,  0.30556053,  0.48573991,  0.6659193 ,  0.84609868,\n",
       "         1.02627807,  1.20645745,  1.38663684,  1.56681622,  1.7469956 ,\n",
       "         1.92717499,  2.10735437,  2.28753376,  2.46771314,  2.64789253,\n",
       "         2.82807191,  3.0082513 ,  3.18843068,  3.36861007,  3.54878945,\n",
       "         3.72896884,  3.90914822,  4.0893276 ,  4.26950699,  4.44968637,\n",
       "         4.62986576,  4.81004514,  4.99022453,  5.17040391,  5.3505833 ,\n",
       "         5.53076268,  5.71094207,  5.89112145,  6.07130084,  6.25148022,\n",
       "         6.4316596 ,  6.61183899,  6.79201837,  6.97219776,  7.15237714,\n",
       "         7.33255653,  7.51273591,  7.6929153 ,  7.87309468,  8.05327407,\n",
       "         8.23345345,  8.41363284,  8.59381222,  8.77399161,  8.95417099,\n",
       "         9.13435037,  9.31452976,  9.49470914,  9.67488853,  9.85506791,\n",
       "        10.0352473 , 10.21542668, 10.39560607, 10.57578545, 10.75596484,\n",
       "        10.93614422, 11.11632361, 11.29650299, 11.47668237, 11.65686176,\n",
       "        11.83704114, 12.01722053, 12.19739991, 12.3775793 , 12.55775868,\n",
       "        12.73793807, 12.91811745, 13.09829684, 13.27847622, 13.45865561,\n",
       "        13.63883499, 13.81901438, 13.99919376, 14.17937314, 14.35955253,\n",
       "        14.53973191]),\n",
       " <BarContainer object of 100 artists>)"
      ]
     },
     "execution_count": 19,
     "metadata": {},
     "output_type": "execute_result"
    },
    {
     "data": {
      "image/png": "[encoded data removed]",
      "text/plain": [
       "<Figure size 432x288 with 1 Axes>"
      ]
     },
     "metadata": {
      "needs_background": "light"
     },
     "output_type": "display_data"
    }
   ],
   "source": [
    "plt.hist(normal_vector, bins=100)"
   ]
  },
  {
   "cell_type": "code",
   "execution_count": 20,
   "id": "37a67643",
   "metadata": {},
   "outputs": [
    {
     "data": {
      "text/plain": [
       "(array([ 938., 1001., 1084.,  976., 1002., 1022.,  976., 1023.,  973.,\n",
       "         963.,  995.,  990., 1034.,  994.,  969., 1004., 1023.,  961.,\n",
       "        1022.,  969., 1019.,  950.,  984., 1003.,  983., 1027.,  998.,\n",
       "         995.,  956.,  959., 1047., 1003.,  975., 1039., 1090.,  997.,\n",
       "        1006., 1007.,  980., 1027.,  992.,  983., 1017., 1008.,  999.,\n",
       "        1043., 1030.,  977.,  987., 1067., 1073., 1029.,  967.,  989.,\n",
       "         963., 1011.,  985., 1013., 1060., 1043.,  971.,  949., 1045.,\n",
       "        1030.,  957.,  987.,  977.,  990.,  941.,  980., 1039.,  993.,\n",
       "         988.,  962.,  985., 1027., 1010., 1019., 1005., 1012.,  976.,\n",
       "         977.,  974., 1060.,  993., 1003.,  980.,  979., 1019.,  991.,\n",
       "         996., 1023., 1000.,  974., 1013., 1004.,  999., 1003.,  957.,\n",
       "        1012.]),\n",
       " array([1.83829920e-04, 1.00181688e-01, 2.00179547e-01, 3.00177405e-01,\n",
       "        4.00175263e-01, 5.00173121e-01, 6.00170980e-01, 7.00168838e-01,\n",
       "        8.00166696e-01, 9.00164555e-01, 1.00016241e+00, 1.10016027e+00,\n",
       "        1.20015813e+00, 1.30015599e+00, 1.40015385e+00, 1.50015170e+00,\n",
       "        1.60014956e+00, 1.70014742e+00, 1.80014528e+00, 1.90014314e+00,\n",
       "        2.00014100e+00, 2.10013885e+00, 2.20013671e+00, 2.30013457e+00,\n",
       "        2.40013243e+00, 2.50013029e+00, 2.60012815e+00, 2.70012600e+00,\n",
       "        2.80012386e+00, 2.90012172e+00, 3.00011958e+00, 3.10011744e+00,\n",
       "        3.20011530e+00, 3.30011315e+00, 3.40011101e+00, 3.50010887e+00,\n",
       "        3.60010673e+00, 3.70010459e+00, 3.80010245e+00, 3.90010030e+00,\n",
       "        4.00009816e+00, 4.10009602e+00, 4.20009388e+00, 4.30009174e+00,\n",
       "        4.40008960e+00, 4.50008745e+00, 4.60008531e+00, 4.70008317e+00,\n",
       "        4.80008103e+00, 4.90007889e+00, 5.00007674e+00, 5.10007460e+00,\n",
       "        5.20007246e+00, 5.30007032e+00, 5.40006818e+00, 5.50006604e+00,\n",
       "        5.60006389e+00, 5.70006175e+00, 5.80005961e+00, 5.90005747e+00,\n",
       "        6.00005533e+00, 6.10005319e+00, 6.20005104e+00, 6.30004890e+00,\n",
       "        6.40004676e+00, 6.50004462e+00, 6.60004248e+00, 6.70004034e+00,\n",
       "        6.80003819e+00, 6.90003605e+00, 7.00003391e+00, 7.10003177e+00,\n",
       "        7.20002963e+00, 7.30002749e+00, 7.40002534e+00, 7.50002320e+00,\n",
       "        7.60002106e+00, 7.70001892e+00, 7.80001678e+00, 7.90001464e+00,\n",
       "        8.00001249e+00, 8.10001035e+00, 8.20000821e+00, 8.30000607e+00,\n",
       "        8.40000393e+00, 8.50000179e+00, 8.59999964e+00, 8.69999750e+00,\n",
       "        8.79999536e+00, 8.89999322e+00, 8.99999108e+00, 9.09998894e+00,\n",
       "        9.19998679e+00, 9.29998465e+00, 9.39998251e+00, 9.49998037e+00,\n",
       "        9.59997823e+00, 9.69997608e+00, 9.79997394e+00, 9.89997180e+00,\n",
       "        9.99996966e+00]),\n",
       " <BarContainer object of 100 artists>)"
      ]
     },
     "execution_count": 20,
     "metadata": {},
     "output_type": "execute_result"
    },
    {
     "data": {
      "image/png": "[encoded data removed]",
      "text/plain": [
       "<Figure size 432x288 with 1 Axes>"
      ]
     },
     "metadata": {
      "needs_background": "light"
     },
     "output_type": "display_data"
    }
   ],
   "source": [
    "plt.hist(uniform_vector, bins=100)"
   ]
  },
  {
   "cell_type": "code",
   "execution_count": 35,
   "id": "484b8be0",
   "metadata": {},
   "outputs": [
    {
     "name": "stdout",
     "output_type": "stream",
     "text": [
      "3\n",
      "3.0\n"
     ]
    }
   ],
   "source": [
    "dot1 = np.array([1,2])\n",
    "dot2 = np.array([1,1])\n",
    "print(np.dot(dot1, dot2))\n",
    "theta = np.arctan(2) - 45 * np.pi / 180\n",
    "print(np.sqrt(sum(np.power(dot1,2))) * np.sqrt(sum(np.power(dot2,2))) * np.cos(theta))"
   ]
  },
  {
   "cell_type": "code",
   "execution_count": 30,
   "id": "530ef0b4",
   "metadata": {},
   "outputs": [
    {
     "name": "stdout",
     "output_type": "stream",
     "text": [
      "90.0\n"
     ]
    }
   ],
   "source": [
    "print(np.arctan2(1, 0) * 180 / np.pi)"
   ]
  },
  {
   "cell_type": "code",
   "execution_count": null,
   "id": "4835c2cc",
   "metadata": {},
   "outputs": [],
   "source": []
  }
 ],
 "metadata": {
  "kernelspec": {
   "display_name": "Python 3 (ipykernel)",
   "language": "python",
   "name": "python3"
  },
  "language_info": {
   "codemirror_mode": {
    "name": "ipython",
    "version": 3
   },
   "file_extension": ".py",
   "mimetype": "text/x-python",
   "name": "python",
   "nbconvert_exporter": "python",
   "pygments_lexer": "ipython3",
   "version": "3.8.13"
  }
 },
 "nbformat": 4,
 "nbformat_minor": 5
}
