{
 "cells": [
  {
   "cell_type": "markdown",
   "id": "0479df7a",
   "metadata": {},
   "source": [
    "Question: http://ais.informatik.uni-freiburg.de/teaching/ss17/robotics/exercises/python/sheet03.pdf  \n",
    "Solution: http://ais.informatik.uni-freiburg.de/teaching/ss17/robotics/exercises/solutions/03/sheet03sol.pdf  "
   ]
  },
  {
   "cell_type": "code",
   "execution_count": 1,
   "id": "3ee6b32e",
   "metadata": {},
   "outputs": [],
   "source": [
    "import numpy as np\n",
    "import matplotlib.pyplot as plt"
   ]
  },
  {
   "cell_type": "code",
   "execution_count": 4,
   "id": "163da416",
   "metadata": {},
   "outputs": [],
   "source": [
    "def diffDrive(x, y, theta, vl, vr, t, l):\n",
    "    # straight motion\n",
    "    if vl == vr:\n",
    "        theta_ret = theta\n",
    "        v = (vl + vr) / 2\n",
    "        x_ret = x + v * t * np.cos(theta)\n",
    "        y_ret = y + v * t * np.sin(theta)\n",
    "    # circular motion\n",
    "    else:\n",
    "        # Calculate the radius\n",
    "        R = l / 2 * (vr + vl) / (vr - vl)\n",
    "        omega = (vr - vl) / l\n",
    "        # computing center of curvature\n",
    "        # pay attention to the orientation of the robot (x -> north, y -> west, z -> upper)\n",
    "        ICC_x = x - R * np.sin(theta)\n",
    "        ICC_y = y + R * np.cos(theta)\n",
    "        # compute the angular velocity\n",
    "        dtheta = omega * t\n",
    "        # forward kinematics for differential drive\n",
    "        x_ret = np.cos(dtheta) * (x - ICC_x) - np.sin(dtheta) * (y - ICC_y) + ICC_x\n",
    "        y_ret = np.sin(dtheta) * (x - ICC_x) + np.cos(dtheta) * (y - ICC_y) + ICC_y\n",
    "        theta_ret = dtheta + theta\n",
    "    return x_ret, y_ret, theta_ret"
   ]
  },
  {
   "cell_type": "code",
   "execution_count": 5,
   "id": "28455de8",
   "metadata": {},
   "outputs": [
    {
     "name": "stdout",
     "output_type": "stream",
     "text": [
      "1.5 2.9 1.5707963267948966\n",
      "1.5 2.9 1.1707963267948966\n",
      "1.6396758098815527 3.035655185914644 0.3707963267948966\n"
     ]
    }
   ],
   "source": [
    "x, y, theta = 1.5, 2.0, (np.pi)/2.0\n",
    "l = 0.5\n",
    "command1_t, command1_vl, command1_vr = 3, 0.3, 0.3\n",
    "ret1_x, ret1_y, ret1_theta = diffDrive(x, y, theta, command1_vl, command1_vr, command1_t, l)\n",
    "command2_t, command2_vl, command2_vr = 1, 0.1, -0.1\n",
    "ret2_x, ret2_y, ret2_theta = diffDrive(ret1_x, ret1_y, ret1_theta, command2_vl, command2_vr, command2_t, l)\n",
    "command3_t, command3_vl, command3_vr = 2, 0.2, 0\n",
    "ret3_x, ret3_y, ret3_theta = diffDrive(ret2_x, ret2_y, ret2_theta, command3_vl, command3_vr, command3_t, l)\n",
    "print(ret1_x, ret1_y, ret1_theta)\n",
    "print(ret2_x, ret2_y, ret2_theta)\n",
    "print(ret3_x, ret3_y, ret3_theta)"
   ]
  },
  {
   "cell_type": "code",
   "execution_count": 10,
   "id": "efaec5d8",
   "metadata": {},
   "outputs": [
    {
     "data": {
      "text/plain": [
       "<matplotlib.quiver.Quiver at 0x7fa76c592940>"
      ]
     },
     "execution_count": 10,
     "metadata": {},
     "output_type": "execute_result"
    },
    {
     "data": {
      "image/png": "[encoded data removed]",
      "text/plain": [
       "<Figure size 432x288 with 1 Axes>"
      ]
     },
     "metadata": {
      "needs_background": "light"
     },
     "output_type": "display_data"
    }
   ],
   "source": [
    "plt.gca().set_aspect('equal')\n",
    "plt.quiver(x, y, np.cos(theta), np.sin(theta))\n",
    "plt.xlim([0.5, 2.5])\n",
    "plt.ylim([1.5, 3.5])\n",
    "plt.quiver(ret1_x, ret1_y, np.cos(ret1_theta), np.sin(ret1_theta))\n",
    "plt.quiver(ret2_x, ret2_y, np.cos(ret2_theta), np.sin(ret2_theta))\n",
    "plt.quiver(ret3_x, ret3_y, np.cos(ret3_theta), np.sin(ret3_theta))"
   ]
  },
  {
   "cell_type": "code",
   "execution_count": 11,
   "id": "818b18cd",
   "metadata": {},
   "outputs": [
    {
     "data": {
      "text/plain": [
       "<Figure size 432x288 with 0 Axes>"
      ]
     },
     "metadata": {},
     "output_type": "display_data"
    }
   ],
   "source": [
    "plt.savefig(\"lecture3_ctrl.png\")\n",
    "plt.show()"
   ]
  },
  {
   "cell_type": "code",
   "execution_count": null,
   "id": "0876a0de",
   "metadata": {},
   "outputs": [],
   "source": []
  }
 ],
 "metadata": {
  "kernelspec": {
   "display_name": "Python 3 (ipykernel)",
   "language": "python",
   "name": "python3"
  },
  "language_info": {
   "codemirror_mode": {
    "name": "ipython",
    "version": 3
   },
   "file_extension": ".py",
   "mimetype": "text/x-python",
   "name": "python",
   "nbconvert_exporter": "python",
   "pygments_lexer": "ipython3",
   "version": "3.8.13"
  }
 },
 "nbformat": 4,
 "nbformat_minor": 5
}
